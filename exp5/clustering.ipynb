{
 "cells": [
  {
   "cell_type": "code",
   "execution_count": 2,
   "metadata": {},
   "outputs": [],
   "source": [
    "import matplotlib.pyplot as plt\n",
    "import pandas as pd\n",
    "import numpy as np\n",
    "from sklearn.cluster import KMeans "
   ]
  },
  {
   "cell_type": "code",
   "execution_count": 10,
   "metadata": {},
   "outputs": [
    {
     "data": {
      "text/html": [
       "<div>\n",
       "<style scoped>\n",
       "    .dataframe tbody tr th:only-of-type {\n",
       "        vertical-align: middle;\n",
       "    }\n",
       "\n",
       "    .dataframe tbody tr th {\n",
       "        vertical-align: top;\n",
       "    }\n",
       "\n",
       "    .dataframe thead th {\n",
       "        text-align: right;\n",
       "    }\n",
       "</style>\n",
       "<table border=\"1\" class=\"dataframe\">\n",
       "  <thead>\n",
       "    <tr style=\"text-align: right;\">\n",
       "      <th></th>\n",
       "      <th>MedInc</th>\n",
       "      <th>MedHouseVal</th>\n",
       "    </tr>\n",
       "  </thead>\n",
       "  <tbody>\n",
       "    <tr>\n",
       "      <th>1400</th>\n",
       "      <td>4.7386</td>\n",
       "      <td>1.864</td>\n",
       "    </tr>\n",
       "    <tr>\n",
       "      <th>1401</th>\n",
       "      <td>4.5893</td>\n",
       "      <td>1.900</td>\n",
       "    </tr>\n",
       "    <tr>\n",
       "      <th>1402</th>\n",
       "      <td>5.0672</td>\n",
       "      <td>2.430</td>\n",
       "    </tr>\n",
       "    <tr>\n",
       "      <th>1403</th>\n",
       "      <td>4.8702</td>\n",
       "      <td>2.356</td>\n",
       "    </tr>\n",
       "    <tr>\n",
       "      <th>1404</th>\n",
       "      <td>5.0445</td>\n",
       "      <td>1.962</td>\n",
       "    </tr>\n",
       "    <tr>\n",
       "      <th>...</th>\n",
       "      <td>...</td>\n",
       "      <td>...</td>\n",
       "    </tr>\n",
       "    <tr>\n",
       "      <th>1495</th>\n",
       "      <td>6.0704</td>\n",
       "      <td>2.680</td>\n",
       "    </tr>\n",
       "    <tr>\n",
       "      <th>1496</th>\n",
       "      <td>6.3809</td>\n",
       "      <td>2.736</td>\n",
       "    </tr>\n",
       "    <tr>\n",
       "      <th>1497</th>\n",
       "      <td>6.8145</td>\n",
       "      <td>3.392</td>\n",
       "    </tr>\n",
       "    <tr>\n",
       "      <th>1498</th>\n",
       "      <td>7.5898</td>\n",
       "      <td>3.302</td>\n",
       "    </tr>\n",
       "    <tr>\n",
       "      <th>1499</th>\n",
       "      <td>3.1406</td>\n",
       "      <td>1.631</td>\n",
       "    </tr>\n",
       "  </tbody>\n",
       "</table>\n",
       "<p>100 rows × 2 columns</p>\n",
       "</div>"
      ],
      "text/plain": [
       "      MedInc  MedHouseVal\n",
       "1400  4.7386        1.864\n",
       "1401  4.5893        1.900\n",
       "1402  5.0672        2.430\n",
       "1403  4.8702        2.356\n",
       "1404  5.0445        1.962\n",
       "...      ...          ...\n",
       "1495  6.0704        2.680\n",
       "1496  6.3809        2.736\n",
       "1497  6.8145        3.392\n",
       "1498  7.5898        3.302\n",
       "1499  3.1406        1.631\n",
       "\n",
       "[100 rows x 2 columns]"
      ]
     },
     "execution_count": 10,
     "metadata": {},
     "output_type": "execute_result"
    }
   ],
   "source": [
    "df = pd.read_csv('housing.csv')\n",
    "df = df.iloc[1400:1500]\n",
    "# df\n",
    "data_for_clustering = df[[\"MedInc\",\"MedHouseVal\"]]\n",
    "data_for_clustering"
   ]
  },
  {
   "cell_type": "code",
   "execution_count": 11,
   "metadata": {},
   "outputs": [
    {
     "data": {
      "text/plain": [
       "array([[4.7386, 1.864 ],\n",
       "       [4.5893, 1.9   ],\n",
       "       [5.0672, 2.43  ],\n",
       "       [4.8702, 2.356 ],\n",
       "       [5.0445, 1.962 ],\n",
       "       [3.9816, 1.82  ],\n",
       "       [4.175 , 1.694 ],\n",
       "       [2.5459, 1.793 ],\n",
       "       [2.5268, 2.357 ],\n",
       "       [3.5057, 2.051 ],\n",
       "       [2.892 , 2.208 ],\n",
       "       [5.0761, 2.332 ],\n",
       "       [4.725 , 2.321 ],\n",
       "       [4.475 , 2.657 ],\n",
       "       [6.0265, 2.479 ],\n",
       "       [6.1922, 2.732 ],\n",
       "       [3.2484, 0.911 ],\n",
       "       [3.2   , 1.345 ],\n",
       "       [4.125 , 1.362 ],\n",
       "       [6.1359, 2.5   ],\n",
       "       [2.8043, 0.875 ],\n",
       "       [1.8229, 1.375 ],\n",
       "       [3.7333, 1.364 ],\n",
       "       [2.3462, 0.75  ],\n",
       "       [1.3894, 1.563 ],\n",
       "       [2.3152, 1.406 ],\n",
       "       [5.7295, 1.783 ],\n",
       "       [4.5707, 1.759 ],\n",
       "       [3.8897, 1.399 ],\n",
       "       [3.6042, 1.382 ],\n",
       "       [4.6375, 1.782 ],\n",
       "       [4.9022, 1.693 ],\n",
       "       [4.45  , 1.619 ],\n",
       "       [4.59  , 1.666 ],\n",
       "       [3.4531, 1.489 ],\n",
       "       [3.5179, 1.655 ],\n",
       "       [4.317 , 1.94  ],\n",
       "       [5.1118, 2.269 ],\n",
       "       [5.1021, 2.028 ],\n",
       "       [3.6449, 2.115 ],\n",
       "       [2.8456, 1.655 ],\n",
       "       [3.4187, 1.617 ],\n",
       "       [5.4607, 1.923 ],\n",
       "       [5.0915, 1.932 ],\n",
       "       [4.4536, 1.84  ],\n",
       "       [6.2135, 2.172 ],\n",
       "       [4.9219, 1.82  ],\n",
       "       [4.525 , 1.613 ],\n",
       "       [4.0507, 1.61  ],\n",
       "       [3.7841, 1.449 ],\n",
       "       [6.1436, 2.595 ],\n",
       "       [6.1168, 2.105 ],\n",
       "       [5.0092, 2.441 ],\n",
       "       [4.7891, 1.848 ],\n",
       "       [5.2145, 2.292 ],\n",
       "       [3.6133, 1.961 ],\n",
       "       [3.65  , 2.041 ],\n",
       "       [5.7512, 2.402 ],\n",
       "       [5.9617, 2.311 ],\n",
       "       [5.2442, 2.132 ],\n",
       "       [5.1333, 2.072 ],\n",
       "       [4.6071, 1.841 ],\n",
       "       [3.7   , 1.79  ],\n",
       "       [4.5833, 1.907 ],\n",
       "       [3.0859, 1.678 ],\n",
       "       [5.431 , 2.467 ],\n",
       "       [3.1573, 1.267 ],\n",
       "       [7.6166, 2.604 ],\n",
       "       [5.5872, 2.006 ],\n",
       "       [6.7371, 2.674 ],\n",
       "       [6.7821, 2.659 ],\n",
       "       [5.3794, 2.062 ],\n",
       "       [4.    , 1.71  ],\n",
       "       [3.25  , 1.511 ],\n",
       "       [2.9861, 1.609 ],\n",
       "       [2.9915, 1.667 ],\n",
       "       [2.9097, 1.063 ],\n",
       "       [2.5841, 1.125 ],\n",
       "       [3.1968, 1.51  ],\n",
       "       [2.2411, 1.518 ],\n",
       "       [3.8456, 1.598 ],\n",
       "       [3.6964, 1.657 ],\n",
       "       [1.837 , 1.75  ],\n",
       "       [3.1838, 1.82  ],\n",
       "       [5.4482, 1.908 ],\n",
       "       [6.0901, 2.982 ],\n",
       "       [6.6727, 3.051 ],\n",
       "       [2.1083, 1.625 ],\n",
       "       [3.1719, 2.205 ],\n",
       "       [2.4519, 2.083 ],\n",
       "       [4.9485, 2.023 ],\n",
       "       [5.6642, 2.37  ],\n",
       "       [4.2569, 2.131 ],\n",
       "       [6.7061, 3.223 ],\n",
       "       [4.125 , 2.671 ],\n",
       "       [6.0704, 2.68  ],\n",
       "       [6.3809, 2.736 ],\n",
       "       [6.8145, 3.392 ],\n",
       "       [7.5898, 3.302 ],\n",
       "       [3.1406, 1.631 ]])"
      ]
     },
     "execution_count": 11,
     "metadata": {},
     "output_type": "execute_result"
    }
   ],
   "source": [
    "x = data_for_clustering.values\n",
    "x"
   ]
  },
  {
   "cell_type": "code",
   "execution_count": 14,
   "metadata": {},
   "outputs": [
    {
     "data": {
      "image/png": "[encoded data removed]",
      "text/plain": [
       "<Figure size 432x288 with 1 Axes>"
      ]
     },
     "metadata": {
      "needs_background": "light"
     },
     "output_type": "display_data"
    }
   ],
   "source": [
    "plt.scatter(data_for_clustering.MedInc.to_list() , data_for_clustering.MedHouseVal.to_list())\n",
    "plt.title(\"House Prices\")\n",
    "plt.xlabel(\"Income\")\n",
    "plt.ylabel(\"House prices\")\n",
    "plt.show()"
   ]
  },
  {
   "cell_type": "code",
   "execution_count": 15,
   "metadata": {},
   "outputs": [],
   "source": [
    "def get_wcss(X):\n",
    "    wcss_list= []\n",
    "    for i in range(1, 11):  \n",
    "        kmeans = KMeans(n_clusters=i, init='k-means++', random_state= 42)  \n",
    "        kmeans.fit(X)  \n",
    "        wcss_list.append(kmeans.inertia_)  \n",
    "    \n",
    "    return wcss_list"
   ]
  },
  {
   "cell_type": "code",
   "execution_count": 16,
   "metadata": {},
   "outputs": [
    {
     "name": "stdout",
     "output_type": "stream",
     "text": [
      "[212.67648267190006, 74.57729755995962, 40.00232767936331, 27.520531769942124, 22.102294138198378, 18.442280411841995, 14.809002254054407, 12.558447298241122, 11.467933900351197, 10.353005105846478]\n"
     ]
    },
    {
     "data": {
      "image/png": "[encoded data removed]",
      "text/plain": [
       "<Figure size 432x288 with 1 Axes>"
      ]
     },
     "metadata": {
      "needs_background": "light"
     },
     "output_type": "display_data"
    }
   ],
   "source": [
    "wcss = get_wcss(x)\n",
    "print(wcss)\n",
    "plt.plot(range(1, 11), wcss)  \n",
    "plt.title('The Elbow Method Graph')  \n",
    "plt.xlabel('Number of clusters(k)')  \n",
    "plt.ylabel('wcss_list')  \n",
    "plt.show()  \n",
    "    "
   ]
  },
  {
   "cell_type": "code",
   "execution_count": 17,
   "metadata": {},
   "outputs": [],
   "source": [
    "def clustering_kmeans(X,k):\n",
    "    kmeans = KMeans(n_clusters=k, init='k-means++', random_state= 42)  \n",
    "    y= kmeans.fit_predict(X)  \n",
    "    return kmeans,y"
   ]
  },
  {
   "cell_type": "code",
   "execution_count": 36,
   "metadata": {},
   "outputs": [],
   "source": [
    "# Using the Elbow method the optimal value of cluster(k) is 4 for the given dataset\n",
    "k_means, y = clustering_kmeans(x, 4)"
   ]
  },
  {
   "cell_type": "code",
   "execution_count": 37,
   "metadata": {},
   "outputs": [
    {
     "data": {
      "image/png": "[encoded data removed]",
      "text/plain": [
       "<Figure size 432x288 with 1 Axes>"
      ]
     },
     "metadata": {
      "needs_background": "light"
     },
     "output_type": "display_data"
    }
   ],
   "source": [
    "plt.scatter(x[y == 0, 0], x[y == 0, 1], s = 100, c = 'blue', label = 'Cluster 1') #for first cluster  \n",
    "plt.scatter(x[y == 1, 0], x[y == 1, 1], s = 100, c = 'green', label = 'Cluster 2') #for second cluster  \n",
    "plt.scatter(x[y== 2, 0], x[y == 2, 1], s = 100, c = 'red', label = 'Cluster 3') #for third cluster  \n",
    "# plt.scatter(x[y == 3, 0], x[y == 3, 1], s = 100, c = 'cyan', label = 'Cluster 4') #for fourth cluster  \n",
    "# plt.scatter(x[y == 4, 0], x[y == 4, 1], s = 100, c = 'magenta', label = 'Cluster 5') #for fifth cluster  \n",
    "# plt.scatter(x[y == 5, 0], x[y == 5, 1], s = 100, c = 'black', label = 'Cluster 6') #for sixth cluster  \n",
    "# plt.scatter(x[y == 6, 0], x[y == 6, 1], s = 100, c = 'purple', label = 'Cluster 7') #for seventh cluster  \n",
    "# plt.scatter(x[y == 7, 0], x[y == 7, 1], s = 100, c = 'orange', label = 'Cluster 8') #for eigth cluster  \n",
    "plt.scatter(k_means.cluster_centers_[:, 0], k_means.cluster_centers_[:, 1], s = 300, c = 'yellow', label = 'Centroid')   \n",
    "plt.title('House Prices Cluster')  \n",
    "plt.xlabel('Income')  \n",
    "plt.ylabel('House price')  \n",
    "plt.legend()  \n",
    "plt.show()  "
   ]
  },
  {
   "cell_type": "code",
   "execution_count": null,
   "metadata": {},
   "outputs": [],
   "source": []
  }
 ],
 "metadata": {
  "interpreter": {
   "hash": "ac59ebe37160ed0dfa835113d9b8498d9f09ceb179beaac4002f036b9467c963"
  },
  "kernelspec": {
   "display_name": "Python 3",
   "language": "python",
   "name": "python3"
  },
  "language_info": {
   "codemirror_mode": {
    "name": "ipython",
    "version": 3
   },
   "file_extension": ".py",
   "mimetype": "text/x-python",
   "name": "python",
   "nbconvert_exporter": "python",
   "pygments_lexer": "ipython3",
   "version": "3.7.4"
  }
 },
 "nbformat": 4,
 "nbformat_minor": 2
}
